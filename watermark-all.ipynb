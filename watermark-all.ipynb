{
 "cells": [
  {
   "cell_type": "code",
   "execution_count": 1,
   "metadata": {},
   "outputs": [],
   "source": [
    "from PIL import Image, ImageDraw, ImageFont\n",
    "import time\n",
    "import os \n"
   ]
  },
  {
   "cell_type": "code",
   "execution_count": 8,
   "metadata": {},
   "outputs": [],
   "source": [
    "#pwd = os.path.dirname(os.path.realpath(__file__)) + \"//\"\n",
    "IMG_PATH =\"code//_training//current_test_data//kitten.jpg\"\n",
    "OUTPUT_PATH = \"code//_training//current_test_data//kitten_watermarked_\" + time.strftime(\"%Y%m%d-%H%M%S\") + \".jpg\"\n",
    "WATERMARK_TEXT = \"sheetz\"\n",
    "FONT_PATH = \"code//_training//current_test_data//BERNHC.TTF\"\n"
   ]
  },
  {
   "cell_type": "code",
   "execution_count": 9,
   "metadata": {},
   "outputs": [],
   "source": [
    "def watermark_text(input_image_path,\n",
    "                   output_image_path,\n",
    "                   text, pos):\n",
    "    photo = Image.open(input_image_path)\n",
    "\n",
    "    # make the image editable\n",
    "    drawing = ImageDraw.Draw(photo)\n",
    "\n",
    "    black = (3, 8, 12)\n",
    "    #font = ImageFont.truetype(\"Pillow/Tests/fonts/FreeMono.ttf\", 40)\n",
    "    font = ImageFont.truetype(FONT_PATH, size=50)\n",
    "    drawing.text(pos, text, fill=black, font=font)\n",
    "    photo.show()\n",
    "    photo.save(output_image_path)\n"
   ]
  },
  {
   "cell_type": "code",
   "execution_count": 10,
   "metadata": {},
   "outputs": [],
   "source": [
    "if __name__ == '__main__':\n",
    "    watermark_text(IMG_PATH, OUTPUT_PATH,\n",
    "                   text=WATERMARK_TEXT,\n",
    "                   pos=(0, 0))\n"
   ]
  },
  {
   "cell_type": "code",
   "execution_count": null,
   "metadata": {},
   "outputs": [],
   "source": []
  }
 ],
 "metadata": {
  "file_extension": ".py",
  "kernelspec": {
   "display_name": "Python 3",
   "language": "python",
   "name": "python3"
  },
  "language_info": {
   "codemirror_mode": {
    "name": "ipython",
    "version": 3
   },
   "file_extension": ".py",
   "mimetype": "text/x-python",
   "name": "python",
   "nbconvert_exporter": "python",
   "pygments_lexer": "ipython3",
   "version": "3.6.3"
  },
  "mimetype": "text/x-python",
  "name": "python",
  "npconvert_exporter": "python",
  "pygments_lexer": "ipython3",
  "version": 3
 },
 "nbformat": 4,
 "nbformat_minor": 2
}
