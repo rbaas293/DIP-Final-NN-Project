{
 "cells": [
  {
   "cell_type": "code",
   "execution_count": 1,
   "metadata": {
    "_cell_guid": "b1076dfc-b9ad-4769-8c92-a6c4dae69d19",
    "_uuid": "8f2839f25d086af736a60e9eeb907d3b93b6e0e5",
    "collapsed": true
   },
   "outputs": [],
   "source": [
    "import os, sys\n",
    "import numpy as np\n",
    "import pandas as pd\n",
    "import matplotlib.pyplot as plt\n",
    "import skimage.io\n",
    "from skimage.transform import resize\n",
    "from imgaug import augmenters as iaa\n",
    "from tqdm import tqdm\n",
    "\n",
    "import warnings\n",
    "warnings.filterwarnings(\"ignore\")"
   ]
  },
  {
   "cell_type": "markdown",
   "metadata": {
    "_uuid": "72c425f3aaa2645215a3adc808fc188c5b59106d"
   },
   "source": [
    "### Load dataset info"
   ]
  },
  {
   "cell_type": "code",
   "execution_count": null,
   "metadata": {
    "_uuid": "42315d01b95b8a901088befa4100b014a1416c7a",
    "collapsed": true
   },
   "outputs": [],
   "source": [
    "path_to_train = '../data/train/'\n",
    "data = pd.read_csv('../data/train.csv')\n",
    "#\n",
    "train_dataset_info = []\n",
    "#\n",
    "for name, labels in zip(data['Id'], data['Target'].str.split(' ')):\n",
    "    train_dataset_info.append({\n",
    "        'path':os.path.join(path_to_train, name),\n",
    "        'labels':np.array([int(label) for label in labels])})\n",
    "train_dataset_info = np.array(train_dataset_info)"
   ]
  },
  {
   "cell_type": "markdown",
   "metadata": {
    "_uuid": "ae3dcb3e4a000051fc8947502a28d399d200a924"
   },
   "source": [
    "### Create datagenerator"
   ]
  },
  {
   "cell_type": "code",
   "execution_count": null,
   "metadata": {
    "_uuid": "c21509d05e2882e6315fc7390d27658c0654fc15",
    "collapsed": true
   },
   "outputs": [],
   "source": [
    "class data_generator:\n",
    "    \n",
    "    def create_train(dataset_info, batch_size, shape, augument=True):\n",
    "        assert shape[2] == 3\n",
    "        while True:\n",
    "            random_indexes = np.random.choice(len(dataset_info), batch_size)\n",
    "            batch_images = np.empty((batch_size, shape[0], shape[1], shape[2]))\n",
    "            batch_labels = np.zeros((batch_size, 28))\n",
    "            for i, idx in enumerate(random_indexes):\n",
    "                image = data_generator.load_image(\n",
    "                    dataset_info[idx]['path'], shape)   \n",
    "                if augument:\n",
    "                    image = data_generator.augment(image)\n",
    "                batch_images[i] = image\n",
    "                batch_labels[i][dataset_info[idx]['labels']] = 1\n",
    "            yield batch_images, batch_labels\n",
    "            \n",
    "    \n",
    "    def load_image(path, shape):\n",
    "        image_red_ch = skimage.io.imread(path+'_red.png')\n",
    "        image_yellow_ch = skimage.io.imread(path+'_yellow.png')\n",
    "        image_green_ch = skimage.io.imread(path+'_green.png')\n",
    "        image_blue_ch = skimage.io.imread(path+'_blue.png')\n",
    "\n",
    "        image_red_ch += (image_yellow_ch/2).astype(np.uint8) \n",
    "        image_green_ch += (image_yellow_ch/2).astype(np.uint8)\n",
    "\n",
    "        image = np.stack((\n",
    "            image_red_ch, \n",
    "            image_green_ch, \n",
    "            image_blue_ch), -1)\n",
    "        image = resize(image, (shape[0], shape[1]), mode='reflect')\n",
    "        return image\n",
    "                \n",
    "            \n",
    "    def augment(image):\n",
    "        augment_img = iaa.Sequential([\n",
    "            iaa.OneOf([\n",
    "                iaa.Affine(rotate=0),\n",
    "                iaa.Affine(rotate=90),\n",
    "                iaa.Affine(rotate=180),\n",
    "                iaa.Affine(rotate=270),\n",
    "                iaa.Fliplr(0.5),\n",
    "                iaa.Flipud(0.5),\n",
    "            ])], random_order=True)\n",
    "        \n",
    "        image_aug = augment_img.augment_image(image)\n",
    "        return image_aug"
   ]
  },
  {
   "cell_type": "markdown",
   "metadata": {
    "_uuid": "74687ae11e12c8d0559e5421a356a67e8ab01537"
   },
   "source": [
    "\n",
    "### Show data"
   ]
  },
  {
   "cell_type": "code",
   "execution_count": null,
   "metadata": {
    "_uuid": "3f2ae48955c4b75b13dd9e9ad0d9e1c84214b019",
    "collapsed": true
   },
   "outputs": [],
   "source": [
    "# create train datagen\n",
    "train_datagen = data_generator.create_train(\n",
    "    train_dataset_info, 5, (299,299,3), augument=True)"
   ]
  },
  {
   "cell_type": "code",
   "execution_count": null,
   "metadata": {
    "_uuid": "5f261d54682cbd326a01e09a0f92598228145d2d",
    "collapsed": true
   },
   "outputs": [],
   "source": [
    "images, labels = next(train_datagen)\n",
    "\n",
    "fig, ax = plt.subplots(1,5,figsize=(25,5))\n",
    "for i in range(5):\n",
    "    ax[i].imshow(images[i])\n",
    "print('min: {0}, max: {1}'.format(images.min(), images.max()))"
   ]
  },
  {
   "cell_type": "markdown",
   "metadata": {
    "_uuid": "ddbc11bf72ecab4028380d64a08660a70a2da028"
   },
   "source": [
    "### Create model"
   ]
  },
  {
   "cell_type": "code",
   "execution_count": null,
   "metadata": {
    "_uuid": "64bba0326be38da7add3594002563bea1c9703db",
    "collapsed": true
   },
   "outputs": [],
   "source": [
    "from keras.preprocessing.image import ImageDataGenerator\n",
    "from keras.models import Sequential, load_model\n",
    "from keras.layers import Activation, Dropout, Flatten, Dense\n",
    "from keras.applications.inception_resnet_v2 import InceptionResNetV2\n",
    "from keras.callbacks import ModelCheckpoint\n",
    "from keras import metrics\n",
    "from keras.optimizers import Adam \n",
    "from keras import backend as K\n",
    "import keras\n",
    "\n",
    "def create_model(input_shape, n_out):\n",
    "    \n",
    "    pretrain_model = InceptionResNetV2(\n",
    "        include_top=False, \n",
    "        weights='imagenet', \n",
    "        input_shape=input_shape)\n",
    "    \n",
    "    model = Sequential()\n",
    "    model.add(pretrain_model)\n",
    "    model.add(Flatten())\n",
    "    model.add(Activation('relu'))\n",
    "    model.add(Dropout(0.5))\n",
    "    model.add(Dense(1024))\n",
    "    model.add(Activation('relu'))\n",
    "    model.add(Dropout(0.5))\n",
    "    model.add(Dense(n_out))\n",
    "    model.add(Activation('sigmoid'))\n",
    "    return model"
   ]
  },
  {
   "cell_type": "code",
   "execution_count": null,
   "metadata": {
    "_uuid": "e7296424196067a0e0a8f2383c99bd2bb76281c4",
    "collapsed": true
   },
   "outputs": [],
   "source": [
    "keras.backend.clear_session()\n",
    "\n",
    "model = create_model(\n",
    "    input_shape=(299,299,3), \n",
    "    n_out=28)\n",
    "\n",
    "model.compile(\n",
    "    loss='categorical_crossentropy', \n",
    "    optimizer=Adam(1e-04),\n",
    "    metrics=['acc'])\n",
    "\n",
    "model.summary()"
   ]
  },
  {
   "cell_type": "markdown",
   "metadata": {
    "_uuid": "2fbffd71262d7d7e591ad5955feb6b0c5ee61737"
   },
   "source": [
    "### Train model"
   ]
  },
  {
   "cell_type": "code",
   "execution_count": null,
   "metadata": {
    "_uuid": "0343374956494b98425448b7aa9092a037aee401",
    "collapsed": true
   },
   "outputs": [],
   "source": [
    "epochs = 100; batch_size = 16\n",
    "checkpointer = ModelCheckpoint(\n",
    "    '../working/InceptionResNetV2.model', \n",
    "    verbose=2, \n",
    "    save_best_only=True)\n",
    "\n",
    "# split and suffle data \n",
    "np.random.seed(2018)\n",
    "indexes = np.arange(train_dataset_info.shape[0])\n",
    "np.random.shuffle(indexes)\n",
    "train_indexes = indexes[:27500]\n",
    "valid_indexes = indexes[27500:]\n",
    "\n",
    "# create train and valid datagens\n",
    "train_generator = data_generator.create_train(\n",
    "    train_dataset_info[train_indexes], batch_size, (299,299,3), augument=True)\n",
    "validation_generator = data_generator.create_train(\n",
    "    train_dataset_info[valid_indexes], 100, (299,299,3), augument=False)\n",
    "\n",
    "# train model\n",
    "history = model.fit_generator(\n",
    "    train_generator,\n",
    "    steps_per_epoch=100,\n",
    "    validation_data=next(validation_generator),\n",
    "    epochs=epochs, \n",
    "    verbose=1,\n",
    "    callbacks=[checkpointer])"
   ]
  },
  {
   "cell_type": "code",
   "execution_count": null,
   "metadata": {
    "_uuid": "884be9cb5e6c81d0ba382bc436810831b37e3e3f",
    "collapsed": true
   },
   "outputs": [],
   "source": [
    "fig, ax = plt.subplots(1, 2, figsize=(15,5))\n",
    "ax[0].set_title('loss')\n",
    "ax[0].plot(history.epoch, history.history[\"loss\"], label=\"Train loss\")\n",
    "ax[0].plot(history.epoch, history.history[\"val_loss\"], label=\"Validation loss\")\n",
    "ax[1].set_title('acc')\n",
    "ax[1].plot(history.epoch, history.history[\"acc\"], label=\"Train acc\")\n",
    "ax[1].plot(history.epoch, history.history[\"val_acc\"], label=\"Validation acc\")\n",
    "ax[0].legend()\n",
    "ax[1].legend()"
   ]
  },
  {
   "cell_type": "markdown",
   "metadata": {
    "_uuid": "2a52b306cd27fc030cfd3f7583009945de7828ac"
   },
   "source": [
    "### Create submit"
   ]
  },
  {
   "cell_type": "code",
   "execution_count": null,
   "metadata": {
    "_uuid": "9d9ee4a8c2b1fc75b9f8d58855e33b115e92134d",
    "collapsed": true
   },
   "outputs": [],
   "source": [
    "submit = pd.read_csv('../input/sample_submission.csv')"
   ]
  },
  {
   "cell_type": "code",
   "execution_count": null,
   "metadata": {
    "_uuid": "782cdb0d614add0f41c11ea180bd45e5600d60fb",
    "collapsed": true
   },
   "outputs": [],
   "source": [
    "%%time\n",
    "predicted = []\n",
    "for name in tqdm(submit['Id']):\n",
    "    path = os.path.join('../input/test/', name)\n",
    "    image = data_generator.load_image(path, (299,299,3))\n",
    "    score_predict = model.predict(image[np.newaxis])[0]\n",
    "    label_predict = np.arange(28)[score_predict>=0.5]\n",
    "    str_predict_label = ' '.join(str(l) for l in label_predict)\n",
    "    predicted.append(str_predict_label)"
   ]
  },
  {
   "cell_type": "code",
   "execution_count": null,
   "metadata": {
    "_uuid": "07043ed35ad009ce6edc017e4aa88ac82571a750",
    "collapsed": true
   },
   "outputs": [],
   "source": [
    "submit['Predicted'] = predicted\n",
    "submit.to_csv('submission.csv', index=False)"
   ]
  }
 ],
 "metadata": {
  "anaconda-cloud": {},
  "kernelspec": {
   "display_name": "Python [default]",
   "language": "python",
   "name": "python3"
  },
  "language_info": {
   "codemirror_mode": {
    "name": "ipython",
    "version": 3
   },
   "file_extension": ".py",
   "mimetype": "text/x-python",
   "name": "python",
   "nbconvert_exporter": "python",
   "pygments_lexer": "ipython3",
   "version": "3.5.2"
  }
 },
 "nbformat": 4,
 "nbformat_minor": 1
}
